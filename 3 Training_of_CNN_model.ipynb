{
  "nbformat": 4,
  "nbformat_minor": 0,
  "metadata": {
    "colab": {
      "name": "3 Training of CNN model.ipynb",
      "provenance": [],
      "collapsed_sections": []
    },
    "kernelspec": {
      "display_name": "Python 3",
      "name": "python3"
    },
    "accelerator": "GPU"
  },
  "cells": [
    {
      "cell_type": "markdown",
      "metadata": {
        "id": "tA4p8YmFLGEW"
      },
      "source": [
        "Parts of code were taken from this sources:\n",
        "\n",
        "https://towardsdatascience.com/fine-tuning-pre-trained-model-vgg-16-1277268c537f\n",
        "https://github.com/sozykin/dlpython_course/blob/master/computer_vision/cats_and_dogs/cats_and_dogs_cnn.ipynb \n"
      ]
    },
    {
      "cell_type": "code",
      "metadata": {
        "id": "gvF46zeozx7s"
      },
      "source": [
        "# Import of required libraries\n",
        "import tensorflow as tf\n",
        "from tensorflow import keras\n",
        "from tensorflow.keras import layers\n",
        "import numpy as np\n",
        "from tensorflow.keras.preprocessing.image import ImageDataGenerator\n",
        "from tensorflow.keras.models import Sequential\n",
        "from tensorflow.keras.layers import Activation, Dropout, Flatten, Dense, Conv2D, MaxPooling2D\n",
        "from keras.layers import Dense, GlobalAveragePooling2D, Dropout, UpSampling2D, Conv2D, MaxPooling2D\n",
        "import matplotlib.pyplot as plt\n",
        "# For transfer learning\n",
        "import keras\n",
        "from keras.applications.vgg16 import VGG16 \n",
        "from keras.callbacks import ModelCheckpoint\n",
        "from keras.callbacks import ReduceLROnPlateau\n"
      ],
      "execution_count": null,
      "outputs": []
    },
    {
      "cell_type": "code",
      "metadata": {
        "id": "ajYQKINSjr5R",
        "colab": {
          "base_uri": "https://localhost:8080/"
        },
        "outputId": "bab7c810-19df-48b6-b358-3383537994bb"
      },
      "source": [
        "# Downloading of a pre-trained VGG16 network without a fully connected layer\n",
        "# and freezing of its parameters to avoid changes during training\n",
        "vgg16_conv = VGG16(weights='imagenet', include_top=False, input_shape=(256, 256, 3))\n",
        "\n",
        "# Freeze four convolution blocks   \n",
        "for layer in vgg16_conv.layers[:15]:\n",
        "    layer.trainable = False\n",
        "# Make sure you have frozen the correct layers\n",
        "for i, layer in enumerate(vgg16_conv.layers):\n",
        "    print(i, layer.name, layer.trainable)\n",
        "# REFERENCE: https://towardsdatascience.com/fine-tuning-pre-trained-model-vgg-16-1277268c537f"
      ],
      "execution_count": null,
      "outputs": [
        {
          "output_type": "stream",
          "name": "stdout",
          "text": [
            "Downloading data from https://storage.googleapis.com/tensorflow/keras-applications/vgg16/vgg16_weights_tf_dim_ordering_tf_kernels_notop.h5\n",
            "58892288/58889256 [==============================] - 1s 0us/step\n",
            "58900480/58889256 [==============================] - 1s 0us/step\n",
            "0 input_1 False\n",
            "1 block1_conv1 False\n",
            "2 block1_conv2 False\n",
            "3 block1_pool False\n",
            "4 block2_conv1 False\n",
            "5 block2_conv2 False\n",
            "6 block2_pool False\n",
            "7 block3_conv1 False\n",
            "8 block3_conv2 False\n",
            "9 block3_conv3 False\n",
            "10 block3_pool False\n",
            "11 block4_conv1 False\n",
            "12 block4_conv2 False\n",
            "13 block4_conv3 False\n",
            "14 block4_pool False\n",
            "15 block5_conv1 True\n",
            "16 block5_conv2 True\n",
            "17 block5_conv3 True\n",
            "18 block5_pool True\n"
          ]
        }
      ]
    },
    {
      "cell_type": "code",
      "metadata": {
        "colab": {
          "base_uri": "https://localhost:8080/"
        },
        "id": "d1vPR36j0jCp",
        "outputId": "a2e84a28-971e-4c71-e0a8-6118d61a4b79"
      },
      "source": [
        "# Connect to Google Drive (which contains dataset)\n",
        "from google.colab import drive\n",
        "drive.mount('/content/gdrive/', force_remount=True)"
      ],
      "execution_count": null,
      "outputs": [
        {
          "output_type": "stream",
          "name": "stdout",
          "text": [
            "Mounted at /content/gdrive/\n"
          ]
        }
      ]
    },
    {
      "cell_type": "code",
      "metadata": {
        "id": "2D83-I3R1Yk9"
      },
      "source": [
        "# Directory with training dataset\n",
        "train_dir = '/content/gdrive/MyDrive/cv_automation/training_sets/train_set'\n",
        "# Directory with validation dataset\n",
        "val_dir = '/content/gdrive/MyDrive/cv_automation/training_sets/dev_set'\n",
        "# Directory with testing dataset\n",
        "test_dir = '/content/gdrive/MyDrive/cv_automation/training_sets/test_set'\n",
        "# Image width and height (in pixels)\n",
        "img_width, img_height = 256, 256\n",
        "#  Size, channels\n",
        "input_shape = (img_width, img_height, 3)\n",
        "# Quantity of epochs for training\n",
        "epochs = 25\n",
        "# Batch-size\n",
        "batch_size = 200\n",
        "# Quantity of images for training\n",
        "nb_train_samples = 960\n",
        "# Quantity of images for validation\n",
        "nb_validation_samples = 320\n",
        "# Quantity of images for tests\n",
        "nb_test_samples = 320\n",
        "# Number of classes\n",
        "nb_classes = 4\n"
      ],
      "execution_count": null,
      "outputs": []
    },
    {
      "cell_type": "code",
      "metadata": {
        "id": "n6A8oLuLj4Qn"
      },
      "source": [
        "model = Sequential()  # Defining of sequential model\n",
        "model.add(vgg16_conv) # Using the pre-trained convolutional part of the VGG16 network as the first layer of the model\n",
        "\n",
        "# A part for classification that will be learning to recognize objects based on new own dataset\n",
        "model.add(Flatten()) # A layer for converting an array obtained from a previous layer into a flat vector\n",
        "model.add(Dense(512)) # Fully-connected layer of 512 neurons\n",
        "model.add(Activation('relu')) # ReLU activation function\n",
        "model.add(Dropout(0.5)) # Dropout regularization layer with a neuron exclusion chance of 50%\n",
        "model.add(Dense(128)) # Fully-connected layer of 128 neurons\n",
        "model.add(Activation('relu')) # ReLU activation function\n",
        "model.add(Dense(nb_classes)) # Output layer of 5 classes\n",
        "model.add(Activation('softmax')) # Activation function for multiclass classification"
      ],
      "execution_count": null,
      "outputs": []
    },
    {
      "cell_type": "code",
      "metadata": {
        "id": "xe7Oks_w-_hG"
      },
      "source": [
        "# Using of Adam optimizer and model compilation\n",
        "\n",
        "from tensorflow.keras.optimizers import Adam \n",
        "optm = tf.keras.optimizers.Adam(\n",
        "    learning_rate=0.0003,\n",
        "    beta_1=0.9,\n",
        "    beta_2=0.999,\n",
        "    epsilon=1e-07,\n",
        "    amsgrad=False,\n",
        "    name=\"Adam\"\n",
        ") \n",
        "\n",
        "model.compile(loss='categorical_crossentropy',\n",
        "              optimizer=optm,\n",
        "              metrics=['accuracy'])\n",
        "\n",
        "\n",
        "\n",
        "lr_reduce = ReduceLROnPlateau(monitor='val_accuracy', factor=0.6, patience=8, verbose=1, mode='max', min_lr=5e-5)\n",
        "checkpoint = ModelCheckpoint('vgg16_finetune.h15', monitor= 'val_accuracy', mode= 'max', save_best_only = True, verbose= 1)\n",
        "# REFERENCE: https://towardsdatascience.com/fine-tuning-pre-trained-model-vgg-16-1277268c537f\n"
      ],
      "execution_count": null,
      "outputs": []
    },
    {
      "cell_type": "code",
      "metadata": {
        "id": "0bQjYuM03AQt",
        "colab": {
          "base_uri": "https://localhost:8080/"
        },
        "outputId": "f6c62ed4-8a07-4513-f1df-303d221d9a68"
      },
      "source": [
        "# Using of Keras generators for class division\n",
        "\n",
        "datagen = ImageDataGenerator(rescale=1. / 255)\n",
        "\n",
        "train_generator = datagen.flow_from_directory(\n",
        "    train_dir,\n",
        "    target_size=(256, 256),\n",
        "    batch_size=batch_size,\n",
        "    class_mode='categorical')\n",
        "\n",
        "val_generator = datagen.flow_from_directory(\n",
        "    val_dir,\n",
        "    target_size=(256, 256),\n",
        "    batch_size=batch_size,\n",
        "    class_mode='categorical')\n",
        "\n",
        "test_generator = datagen.flow_from_directory(\n",
        "    test_dir,\n",
        "    target_size=(256, 256),\n",
        "    batch_size=batch_size,\n",
        "    class_mode='categorical')"
      ],
      "execution_count": null,
      "outputs": [
        {
          "output_type": "stream",
          "name": "stdout",
          "text": [
            "Found 960 images belonging to 4 classes.\n",
            "Found 320 images belonging to 4 classes.\n",
            "Found 320 images belonging to 4 classes.\n"
          ]
        }
      ]
    },
    {
      "cell_type": "code",
      "metadata": {
        "id": "DgBUWndo3Fco",
        "colab": {
          "base_uri": "https://localhost:8080/"
        },
        "outputId": "7708a68c-739f-4952-8dd6-47b82f95d22d"
      },
      "source": [
        "# Start of model training\n",
        "history = model.fit(\n",
        "    train_generator,\n",
        "    steps_per_epoch=nb_train_samples // batch_size,\n",
        "    epochs=epochs,\n",
        "    validation_data=val_generator,\n",
        "    validation_steps=nb_validation_samples // batch_size,\n",
        "    callbacks=[lr_reduce,checkpoint])"
      ],
      "execution_count": null,
      "outputs": [
        {
          "output_type": "stream",
          "name": "stdout",
          "text": [
            "Epoch 1/25\n",
            "4/4 [==============================] - ETA: 0s - loss: 1.9374 - accuracy: 0.2934 \n",
            "Epoch 1: val_accuracy improved from -inf to 0.25500, saving model to vgg16_finetune.h15\n",
            "INFO:tensorflow:Assets written to: vgg16_finetune.h15/assets\n",
            "4/4 [==============================] - 219s 52s/step - loss: 1.9374 - accuracy: 0.2934 - val_loss: 1.2589 - val_accuracy: 0.2550 - lr: 3.0000e-04\n",
            "Epoch 2/25\n",
            "4/4 [==============================] - ETA: 0s - loss: 0.9241 - accuracy: 0.6026\n",
            "Epoch 2: val_accuracy improved from 0.25500 to 0.70500, saving model to vgg16_finetune.h15\n",
            "INFO:tensorflow:Assets written to: vgg16_finetune.h15/assets\n",
            "4/4 [==============================] - 23s 6s/step - loss: 0.9241 - accuracy: 0.6026 - val_loss: 0.4952 - val_accuracy: 0.7050 - lr: 3.0000e-04\n",
            "Epoch 3/25\n",
            "4/4 [==============================] - ETA: 0s - loss: 0.4331 - accuracy: 0.8211\n",
            "Epoch 3: val_accuracy improved from 0.70500 to 0.98500, saving model to vgg16_finetune.h15\n",
            "INFO:tensorflow:Assets written to: vgg16_finetune.h15/assets\n",
            "4/4 [==============================] - 22s 6s/step - loss: 0.4331 - accuracy: 0.8211 - val_loss: 0.0950 - val_accuracy: 0.9850 - lr: 3.0000e-04\n",
            "Epoch 4/25\n",
            "4/4 [==============================] - ETA: 0s - loss: 0.1409 - accuracy: 0.9553\n",
            "Epoch 4: val_accuracy did not improve from 0.98500\n",
            "4/4 [==============================] - 18s 5s/step - loss: 0.1409 - accuracy: 0.9553 - val_loss: 0.1126 - val_accuracy: 0.9650 - lr: 3.0000e-04\n",
            "Epoch 5/25\n",
            "4/4 [==============================] - ETA: 0s - loss: 0.1247 - accuracy: 0.9579\n",
            "Epoch 5: val_accuracy did not improve from 0.98500\n",
            "4/4 [==============================] - 20s 5s/step - loss: 0.1247 - accuracy: 0.9579 - val_loss: 0.3473 - val_accuracy: 0.8950 - lr: 3.0000e-04\n",
            "Epoch 6/25\n",
            "4/4 [==============================] - ETA: 0s - loss: 0.1643 - accuracy: 0.9368\n",
            "Epoch 6: val_accuracy improved from 0.98500 to 1.00000, saving model to vgg16_finetune.h15\n",
            "INFO:tensorflow:Assets written to: vgg16_finetune.h15/assets\n",
            "4/4 [==============================] - 24s 6s/step - loss: 0.1643 - accuracy: 0.9368 - val_loss: 0.0402 - val_accuracy: 1.0000 - lr: 3.0000e-04\n",
            "Epoch 7/25\n",
            "4/4 [==============================] - ETA: 0s - loss: 0.0760 - accuracy: 0.9775\n",
            "Epoch 7: val_accuracy did not improve from 1.00000\n",
            "4/4 [==============================] - 19s 5s/step - loss: 0.0760 - accuracy: 0.9775 - val_loss: 0.0189 - val_accuracy: 0.9950 - lr: 3.0000e-04\n",
            "Epoch 8/25\n",
            "4/4 [==============================] - ETA: 0s - loss: 0.0233 - accuracy: 0.9947\n",
            "Epoch 8: val_accuracy did not improve from 1.00000\n",
            "4/4 [==============================] - 19s 5s/step - loss: 0.0233 - accuracy: 0.9947 - val_loss: 0.0653 - val_accuracy: 0.9800 - lr: 3.0000e-04\n",
            "Epoch 9/25\n",
            "4/4 [==============================] - ETA: 0s - loss: 0.0031 - accuracy: 1.0000\n",
            "Epoch 9: val_accuracy did not improve from 1.00000\n",
            "4/4 [==============================] - 20s 5s/step - loss: 0.0031 - accuracy: 1.0000 - val_loss: 0.0787 - val_accuracy: 0.9900 - lr: 3.0000e-04\n",
            "Epoch 10/25\n",
            "4/4 [==============================] - ETA: 0s - loss: 0.0036 - accuracy: 0.9987\n",
            "Epoch 10: val_accuracy did not improve from 1.00000\n",
            "4/4 [==============================] - 19s 5s/step - loss: 0.0036 - accuracy: 0.9987 - val_loss: 0.0921 - val_accuracy: 0.9850 - lr: 3.0000e-04\n",
            "Epoch 11/25\n",
            "4/4 [==============================] - ETA: 0s - loss: 4.1482e-04 - accuracy: 1.0000\n",
            "Epoch 11: val_accuracy did not improve from 1.00000\n",
            "4/4 [==============================] - 20s 5s/step - loss: 4.1482e-04 - accuracy: 1.0000 - val_loss: 0.0872 - val_accuracy: 0.9850 - lr: 3.0000e-04\n",
            "Epoch 12/25\n",
            "4/4 [==============================] - ETA: 0s - loss: 8.6506e-04 - accuracy: 1.0000\n",
            "Epoch 12: val_accuracy did not improve from 1.00000\n",
            "4/4 [==============================] - 20s 5s/step - loss: 8.6506e-04 - accuracy: 1.0000 - val_loss: 0.1234 - val_accuracy: 0.9800 - lr: 3.0000e-04\n",
            "Epoch 13/25\n",
            "4/4 [==============================] - ETA: 0s - loss: 2.2510e-04 - accuracy: 1.0000\n",
            "Epoch 13: val_accuracy did not improve from 1.00000\n",
            "4/4 [==============================] - 20s 5s/step - loss: 2.2510e-04 - accuracy: 1.0000 - val_loss: 0.0573 - val_accuracy: 0.9900 - lr: 3.0000e-04\n",
            "Epoch 14/25\n",
            "4/4 [==============================] - ETA: 0s - loss: 5.5975e-04 - accuracy: 1.0000\n",
            "Epoch 14: ReduceLROnPlateau reducing learning rate to 0.00018000000854954124.\n",
            "\n",
            "Epoch 14: val_accuracy did not improve from 1.00000\n",
            "4/4 [==============================] - 19s 5s/step - loss: 5.5975e-04 - accuracy: 1.0000 - val_loss: 0.0968 - val_accuracy: 0.9850 - lr: 3.0000e-04\n",
            "Epoch 15/25\n",
            "4/4 [==============================] - ETA: 0s - loss: 4.6121e-05 - accuracy: 1.0000\n",
            "Epoch 15: val_accuracy did not improve from 1.00000\n",
            "4/4 [==============================] - 19s 5s/step - loss: 4.6121e-05 - accuracy: 1.0000 - val_loss: 0.1235 - val_accuracy: 0.9800 - lr: 1.8000e-04\n",
            "Epoch 16/25\n",
            "4/4 [==============================] - ETA: 0s - loss: 5.1690e-06 - accuracy: 1.0000\n",
            "Epoch 16: val_accuracy did not improve from 1.00000\n",
            "4/4 [==============================] - 20s 5s/step - loss: 5.1690e-06 - accuracy: 1.0000 - val_loss: 0.0444 - val_accuracy: 0.9900 - lr: 1.8000e-04\n",
            "Epoch 17/25\n",
            "4/4 [==============================] - ETA: 0s - loss: 8.0210e-06 - accuracy: 1.0000\n",
            "Epoch 17: val_accuracy did not improve from 1.00000\n",
            "4/4 [==============================] - 20s 5s/step - loss: 8.0210e-06 - accuracy: 1.0000 - val_loss: 0.0901 - val_accuracy: 0.9850 - lr: 1.8000e-04\n",
            "Epoch 18/25\n",
            "4/4 [==============================] - ETA: 0s - loss: 4.2909e-06 - accuracy: 1.0000\n",
            "Epoch 18: val_accuracy did not improve from 1.00000\n",
            "4/4 [==============================] - 21s 5s/step - loss: 4.2909e-06 - accuracy: 1.0000 - val_loss: 0.0095 - val_accuracy: 0.9950 - lr: 1.8000e-04\n",
            "Epoch 19/25\n",
            "4/4 [==============================] - ETA: 0s - loss: 2.6680e-06 - accuracy: 1.0000\n",
            "Epoch 19: val_accuracy did not improve from 1.00000\n",
            "4/4 [==============================] - 19s 5s/step - loss: 2.6680e-06 - accuracy: 1.0000 - val_loss: 0.0549 - val_accuracy: 0.9900 - lr: 1.8000e-04\n",
            "Epoch 20/25\n",
            "4/4 [==============================] - ETA: 0s - loss: 1.2301e-05 - accuracy: 1.0000\n",
            "Epoch 20: val_accuracy did not improve from 1.00000\n",
            "4/4 [==============================] - 19s 5s/step - loss: 1.2301e-05 - accuracy: 1.0000 - val_loss: 0.0847 - val_accuracy: 0.9850 - lr: 1.8000e-04\n",
            "Epoch 21/25\n",
            "4/4 [==============================] - ETA: 0s - loss: 2.0082e-06 - accuracy: 1.0000\n",
            "Epoch 21: val_accuracy did not improve from 1.00000\n",
            "4/4 [==============================] - 21s 5s/step - loss: 2.0082e-06 - accuracy: 1.0000 - val_loss: 0.0511 - val_accuracy: 0.9900 - lr: 1.8000e-04\n",
            "Epoch 22/25\n",
            "4/4 [==============================] - ETA: 0s - loss: 3.4944e-06 - accuracy: 1.0000\n",
            "Epoch 22: ReduceLROnPlateau reducing learning rate to 0.00010800000163726508.\n",
            "\n",
            "Epoch 22: val_accuracy did not improve from 1.00000\n",
            "4/4 [==============================] - 19s 5s/step - loss: 3.4944e-06 - accuracy: 1.0000 - val_loss: 0.0310 - val_accuracy: 0.9950 - lr: 1.8000e-04\n",
            "Epoch 23/25\n",
            "4/4 [==============================] - ETA: 0s - loss: 1.6838e-04 - accuracy: 1.0000\n",
            "Epoch 23: val_accuracy did not improve from 1.00000\n",
            "4/4 [==============================] - 19s 5s/step - loss: 1.6838e-04 - accuracy: 1.0000 - val_loss: 0.0016 - val_accuracy: 1.0000 - lr: 1.0800e-04\n",
            "Epoch 24/25\n",
            "4/4 [==============================] - ETA: 0s - loss: 2.0539e-06 - accuracy: 1.0000\n",
            "Epoch 24: val_accuracy did not improve from 1.00000\n",
            "4/4 [==============================] - 20s 5s/step - loss: 2.0539e-06 - accuracy: 1.0000 - val_loss: 0.0619 - val_accuracy: 0.9900 - lr: 1.0800e-04\n",
            "Epoch 25/25\n",
            "4/4 [==============================] - ETA: 0s - loss: 2.7202e-06 - accuracy: 1.0000\n",
            "Epoch 25: val_accuracy did not improve from 1.00000\n",
            "4/4 [==============================] - 20s 5s/step - loss: 2.7202e-06 - accuracy: 1.0000 - val_loss: 0.1035 - val_accuracy: 0.9850 - lr: 1.0800e-04\n"
          ]
        }
      ]
    },
    {
      "cell_type": "code",
      "source": [
        "# list all data in history\n",
        "print(history.history.keys())\n",
        "# summarize history for accuracy\n",
        "plt.plot(history.history['accuracy'])\n",
        "plt.plot(history.history['val_accuracy'])\n",
        "plt.title('model accuracy')\n",
        "plt.ylabel('accuracy')\n",
        "plt.xlabel('epoch')\n",
        "plt.legend(['train', 'dev'], loc='upper left')\n",
        "plt.show()\n",
        "# summarize history for loss\n",
        "plt.plot(history.history['loss'])\n",
        "plt.plot(history.history['val_loss'])\n",
        "plt.title('model loss')\n",
        "plt.ylabel('loss')\n",
        "plt.xlabel('epoch')\n",
        "plt.legend(['train', 'dev'], loc='upper left')\n",
        "plt.show()\n",
        "\n",
        "#REFERENCE: https://machinelearningmastery.com/display-deep-learning-model-training-history-in-keras/"
      ],
      "metadata": {
        "id": "2RMX-gktvOkF",
        "colab": {
          "base_uri": "https://localhost:8080/",
          "height": 591
        },
        "outputId": "5df878b5-f036-429a-9eda-e7e2988e18dd"
      },
      "execution_count": null,
      "outputs": [
        {
          "output_type": "stream",
          "name": "stdout",
          "text": [
            "dict_keys(['loss', 'accuracy', 'val_loss', 'val_accuracy', 'lr'])\n"
          ]
        },
        {
          "output_type": "display_data",
          "data": {
            "text/plain": [
              "<Figure size 432x288 with 1 Axes>"
            ],
            "image/png": "[encoded data removed]"
          },
          "metadata": {
            "needs_background": "light"
          }
        },
        {
          "output_type": "display_data",
          "data": {
            "text/plain": [
              "<Figure size 432x288 with 1 Axes>"
            ],
            "image/png": "[encoded data removed]"
          },
          "metadata": {
            "needs_background": "light"
          }
        }
      ]
    },
    {
      "cell_type": "code",
      "metadata": {
        "id": "50HxKqulGQfc"
      },
      "source": [
        "# Saving of trained model on disk\n",
        "model.save('/content/gdrive/MyDrive/cv_automation/trained_models/adam_00003_ep25_bs_200.h5')"
      ],
      "execution_count": null,
      "outputs": []
    },
    {
      "cell_type": "code",
      "metadata": {
        "id": "zVjPwJZYMsYJ"
      },
      "source": [
        "# Uploading model from disk\n",
        "from tensorflow.keras.models import load_model\n",
        "model = load_model('gdrive/MyDrive/adam_00003_ep25_bs_200.h5')"
      ],
      "execution_count": null,
      "outputs": []
    },
    {
      "cell_type": "code",
      "metadata": {
        "id": "r0Vs2IytAFBf",
        "colab": {
          "base_uri": "https://localhost:8080/"
        },
        "outputId": "39ca367d-4e03-4660-ef1a-979a4f6c0410"
      },
      "source": [
        "model.summary()"
      ],
      "execution_count": null,
      "outputs": [
        {
          "output_type": "stream",
          "name": "stdout",
          "text": [
            "Model: \"sequential\"\n",
            "_________________________________________________________________\n",
            " Layer (type)                Output Shape              Param #   \n",
            "=================================================================\n",
            " vgg16 (Functional)          (None, 8, 8, 512)         14714688  \n",
            "                                                                 \n",
            " flatten (Flatten)           (None, 32768)             0         \n",
            "                                                                 \n",
            " dense (Dense)               (None, 512)               16777728  \n",
            "                                                                 \n",
            " activation (Activation)     (None, 512)               0         \n",
            "                                                                 \n",
            " dropout (Dropout)           (None, 512)               0         \n",
            "                                                                 \n",
            " dense_1 (Dense)             (None, 128)               65664     \n",
            "                                                                 \n",
            " activation_1 (Activation)   (None, 128)               0         \n",
            "                                                                 \n",
            " dense_2 (Dense)             (None, 4)                 516       \n",
            "                                                                 \n",
            " activation_2 (Activation)   (None, 4)                 0         \n",
            "                                                                 \n",
            "=================================================================\n",
            "Total params: 31,558,596\n",
            "Trainable params: 23,923,332\n",
            "Non-trainable params: 7,635,264\n",
            "_________________________________________________________________\n"
          ]
        }
      ]
    },
    {
      "cell_type": "code",
      "metadata": {
        "id": "BqSVhfI8D879",
        "colab": {
          "base_uri": "https://localhost:8080/"
        },
        "outputId": "e02738ac-01f9-4ebd-a90f-647360d7ecc9"
      },
      "source": [
        "# Evaluating the accuracy of the network using a test generator\n",
        "result = model.evaluate(test_generator)\n",
        "print(\"Accuracy on test dataset: %.2f%%\" % (result[1]*100))"
      ],
      "execution_count": null,
      "outputs": [
        {
          "output_type": "stream",
          "name": "stdout",
          "text": [
            "2/2 [==============================] - 45s 41s/step - loss: 2.2799e-05 - accuracy: 1.0000\n",
            "Accuracy on test dataset: 100.00%\n"
          ]
        }
      ]
    },
    {
      "cell_type": "code",
      "source": [
        "# Convert the model to TensorFlow Lite\n",
        "converter = tf.lite.TFLiteConverter.from_keras_model(model)\n",
        "tflite_model = converter.convert()"
      ],
      "metadata": {
        "id": "6pZzSXGnz5Iu"
      },
      "execution_count": null,
      "outputs": []
    },
    {
      "cell_type": "code",
      "source": [
        "# Save TFLite model\n",
        "with open('/content/gdrive/MyDrive/cv_automation/trained_models/model_adam_v01.tflite', 'wb') as f:\n",
        "  f.write(tflite_model)"
      ],
      "metadata": {
        "id": "zdO9ATZN0YQD"
      },
      "execution_count": null,
      "outputs": []
    }
  ]
}